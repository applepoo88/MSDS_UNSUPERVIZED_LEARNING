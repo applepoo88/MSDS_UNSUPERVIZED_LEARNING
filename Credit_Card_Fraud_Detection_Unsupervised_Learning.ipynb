{
 "cells": [
  {
   "cell_type": "markdown",
   "metadata": {},
   "source": [
    "# Credit Card Fraud Detection Using Unsupervised Learning"
   ]
  },
  {
   "cell_type": "markdown",
   "metadata": {},
   "source": [
    "### 1. Data Gathering and Provenance"
   ]
  },
  {
   "cell_type": "markdown",
   "metadata": {},
   "source": [
    "The dataset is sourced from the [Kaggle Credit Card Fraud Detection Dataset](https://www.kaggle.com/mlg-ulb/creditcardfraud). \n",
    "It contains anonymized credit card transactions made by European cardholders over two days in September 2013. \n",
    "\n",
    "This dataset was collected by the Machine Learning Group (MLG) from Université Libre de Bruxelles (ULB) to study fraud detection in an imbalanced dataset.\n",
    "\n",
    "The dataset contains 284,807 transactions with 492 cases of fraud (labeled as \"Class\" = 1), representing 0.17% of the dataset. \n",
    "Our goal is to detect these fraudulent transactions by applying unsupervised learning models to identify anomalies.\n",
    "\n",
    "Because fraudulent transactions are rare, this is an anomaly detection problem, well-suited for unsupervised learning approaches."
   ]
  },
  {
   "cell_type": "code",
   "execution_count": 1,
   "metadata": {},
   "outputs": [],
   "source": [
    "# Import necessary libraries\n",
    "import pandas as pd\n",
    "import numpy as np\n",
    "import matplotlib.pyplot as plt\n",
    "import seaborn as sns\n",
    "from sklearn.preprocessing import StandardScaler\n",
    "from sklearn.ensemble import IsolationForest\n",
    "from sklearn.neighbors import LocalOutlierFactor\n",
    "from sklearn.cluster import KMeans\n",
    "from sklearn.metrics import classification_report, roc_auc_score, roc_curve, auc, confusion_matrix\n",
    "from sklearn.model_selection import train_test_split\n",
    "import warnings"
   ]
  },
  {
   "cell_type": "markdown",
   "metadata": {},
   "source": [
    "### 2. Load the Dataset"
   ]
  },
  {
   "cell_type": "code",
   "execution_count": 2,
   "metadata": {
    "scrolled": true
   },
   "outputs": [
    {
     "data": {
      "text/html": [
       "<div>\n",
       "<style scoped>\n",
       "    .dataframe tbody tr th:only-of-type {\n",
       "        vertical-align: middle;\n",
       "    }\n",
       "\n",
       "    .dataframe tbody tr th {\n",
       "        vertical-align: top;\n",
       "    }\n",
       "\n",
       "    .dataframe thead th {\n",
       "        text-align: right;\n",
       "    }\n",
       "</style>\n",
       "<table border=\"1\" class=\"dataframe\">\n",
       "  <thead>\n",
       "    <tr style=\"text-align: right;\">\n",
       "      <th></th>\n",
       "      <th>Time</th>\n",
       "      <th>V1</th>\n",
       "      <th>V2</th>\n",
       "      <th>V3</th>\n",
       "      <th>V4</th>\n",
       "      <th>V5</th>\n",
       "      <th>V6</th>\n",
       "      <th>V7</th>\n",
       "      <th>V8</th>\n",
       "      <th>V9</th>\n",
       "      <th>...</th>\n",
       "      <th>V21</th>\n",
       "      <th>V22</th>\n",
       "      <th>V23</th>\n",
       "      <th>V24</th>\n",
       "      <th>V25</th>\n",
       "      <th>V26</th>\n",
       "      <th>V27</th>\n",
       "      <th>V28</th>\n",
       "      <th>Amount</th>\n",
       "      <th>Class</th>\n",
       "    </tr>\n",
       "  </thead>\n",
       "  <tbody>\n",
       "    <tr>\n",
       "      <th>0</th>\n",
       "      <td>0.0</td>\n",
       "      <td>-1.359807</td>\n",
       "      <td>-0.072781</td>\n",
       "      <td>2.536347</td>\n",
       "      <td>1.378155</td>\n",
       "      <td>-0.338321</td>\n",
       "      <td>0.462388</td>\n",
       "      <td>0.239599</td>\n",
       "      <td>0.098698</td>\n",
       "      <td>0.363787</td>\n",
       "      <td>...</td>\n",
       "      <td>-0.018307</td>\n",
       "      <td>0.277838</td>\n",
       "      <td>-0.110474</td>\n",
       "      <td>0.066928</td>\n",
       "      <td>0.128539</td>\n",
       "      <td>-0.189115</td>\n",
       "      <td>0.133558</td>\n",
       "      <td>-0.021053</td>\n",
       "      <td>149.62</td>\n",
       "      <td>0</td>\n",
       "    </tr>\n",
       "    <tr>\n",
       "      <th>1</th>\n",
       "      <td>0.0</td>\n",
       "      <td>1.191857</td>\n",
       "      <td>0.266151</td>\n",
       "      <td>0.166480</td>\n",
       "      <td>0.448154</td>\n",
       "      <td>0.060018</td>\n",
       "      <td>-0.082361</td>\n",
       "      <td>-0.078803</td>\n",
       "      <td>0.085102</td>\n",
       "      <td>-0.255425</td>\n",
       "      <td>...</td>\n",
       "      <td>-0.225775</td>\n",
       "      <td>-0.638672</td>\n",
       "      <td>0.101288</td>\n",
       "      <td>-0.339846</td>\n",
       "      <td>0.167170</td>\n",
       "      <td>0.125895</td>\n",
       "      <td>-0.008983</td>\n",
       "      <td>0.014724</td>\n",
       "      <td>2.69</td>\n",
       "      <td>0</td>\n",
       "    </tr>\n",
       "    <tr>\n",
       "      <th>2</th>\n",
       "      <td>1.0</td>\n",
       "      <td>-1.358354</td>\n",
       "      <td>-1.340163</td>\n",
       "      <td>1.773209</td>\n",
       "      <td>0.379780</td>\n",
       "      <td>-0.503198</td>\n",
       "      <td>1.800499</td>\n",
       "      <td>0.791461</td>\n",
       "      <td>0.247676</td>\n",
       "      <td>-1.514654</td>\n",
       "      <td>...</td>\n",
       "      <td>0.247998</td>\n",
       "      <td>0.771679</td>\n",
       "      <td>0.909412</td>\n",
       "      <td>-0.689281</td>\n",
       "      <td>-0.327642</td>\n",
       "      <td>-0.139097</td>\n",
       "      <td>-0.055353</td>\n",
       "      <td>-0.059752</td>\n",
       "      <td>378.66</td>\n",
       "      <td>0</td>\n",
       "    </tr>\n",
       "    <tr>\n",
       "      <th>3</th>\n",
       "      <td>1.0</td>\n",
       "      <td>-0.966272</td>\n",
       "      <td>-0.185226</td>\n",
       "      <td>1.792993</td>\n",
       "      <td>-0.863291</td>\n",
       "      <td>-0.010309</td>\n",
       "      <td>1.247203</td>\n",
       "      <td>0.237609</td>\n",
       "      <td>0.377436</td>\n",
       "      <td>-1.387024</td>\n",
       "      <td>...</td>\n",
       "      <td>-0.108300</td>\n",
       "      <td>0.005274</td>\n",
       "      <td>-0.190321</td>\n",
       "      <td>-1.175575</td>\n",
       "      <td>0.647376</td>\n",
       "      <td>-0.221929</td>\n",
       "      <td>0.062723</td>\n",
       "      <td>0.061458</td>\n",
       "      <td>123.50</td>\n",
       "      <td>0</td>\n",
       "    </tr>\n",
       "    <tr>\n",
       "      <th>4</th>\n",
       "      <td>2.0</td>\n",
       "      <td>-1.158233</td>\n",
       "      <td>0.877737</td>\n",
       "      <td>1.548718</td>\n",
       "      <td>0.403034</td>\n",
       "      <td>-0.407193</td>\n",
       "      <td>0.095921</td>\n",
       "      <td>0.592941</td>\n",
       "      <td>-0.270533</td>\n",
       "      <td>0.817739</td>\n",
       "      <td>...</td>\n",
       "      <td>-0.009431</td>\n",
       "      <td>0.798278</td>\n",
       "      <td>-0.137458</td>\n",
       "      <td>0.141267</td>\n",
       "      <td>-0.206010</td>\n",
       "      <td>0.502292</td>\n",
       "      <td>0.219422</td>\n",
       "      <td>0.215153</td>\n",
       "      <td>69.99</td>\n",
       "      <td>0</td>\n",
       "    </tr>\n",
       "  </tbody>\n",
       "</table>\n",
       "<p>5 rows × 31 columns</p>\n",
       "</div>"
      ],
      "text/plain": [
       "   Time        V1        V2        V3        V4        V5        V6        V7  \\\n",
       "0   0.0 -1.359807 -0.072781  2.536347  1.378155 -0.338321  0.462388  0.239599   \n",
       "1   0.0  1.191857  0.266151  0.166480  0.448154  0.060018 -0.082361 -0.078803   \n",
       "2   1.0 -1.358354 -1.340163  1.773209  0.379780 -0.503198  1.800499  0.791461   \n",
       "3   1.0 -0.966272 -0.185226  1.792993 -0.863291 -0.010309  1.247203  0.237609   \n",
       "4   2.0 -1.158233  0.877737  1.548718  0.403034 -0.407193  0.095921  0.592941   \n",
       "\n",
       "         V8        V9  ...       V21       V22       V23       V24       V25  \\\n",
       "0  0.098698  0.363787  ... -0.018307  0.277838 -0.110474  0.066928  0.128539   \n",
       "1  0.085102 -0.255425  ... -0.225775 -0.638672  0.101288 -0.339846  0.167170   \n",
       "2  0.247676 -1.514654  ...  0.247998  0.771679  0.909412 -0.689281 -0.327642   \n",
       "3  0.377436 -1.387024  ... -0.108300  0.005274 -0.190321 -1.175575  0.647376   \n",
       "4 -0.270533  0.817739  ... -0.009431  0.798278 -0.137458  0.141267 -0.206010   \n",
       "\n",
       "        V26       V27       V28  Amount  Class  \n",
       "0 -0.189115  0.133558 -0.021053  149.62      0  \n",
       "1  0.125895 -0.008983  0.014724    2.69      0  \n",
       "2 -0.139097 -0.055353 -0.059752  378.66      0  \n",
       "3 -0.221929  0.062723  0.061458  123.50      0  \n",
       "4  0.502292  0.219422  0.215153   69.99      0  \n",
       "\n",
       "[5 rows x 31 columns]"
      ]
     },
     "execution_count": 2,
     "metadata": {},
     "output_type": "execute_result"
    }
   ],
   "source": [
    "# Load the dataset\n",
    "df = pd.read_csv('creditcard.csv')\n",
    "\n",
    "# Inspect the first few rows\n",
    "df.head()"
   ]
  },
  {
   "cell_type": "markdown",
   "metadata": {},
   "source": [
    "#### Dataset Structure:\n",
    "- **Time**: Number of seconds elapsed between this transaction and the first transaction in the dataset.\n",
    "- **Amount**: The amount of the transaction.\n",
    "- **V1 - V28**: These are the principal components (PCA-transformed) derived from the original features to anonymize sensitive information.\n",
    "- **Class**: Binary label where 0 = normal transaction and 1 = fraudulent transaction."
   ]
  },
  {
   "cell_type": "markdown",
   "metadata": {},
   "source": [
    "### 3. Exploratory Data Analysis (EDA)"
   ]
  },
  {
   "cell_type": "markdown",
   "metadata": {},
   "source": [
    "In this section, I explore the distribution of the features in the dataset and assess the need for data cleaning or transformations.\n",
    "Since this dataset is anonymized, I won't be able to interpret the V1-V28 features directly, but I will focus on analyzing the 'Amount' and 'Time' features."
   ]
  },
  {
   "cell_type": "code",
   "execution_count": 3,
   "metadata": {},
   "outputs": [
    {
     "data": {
      "text/plain": [
       "0"
      ]
     },
     "execution_count": 3,
     "metadata": {},
     "output_type": "execute_result"
    }
   ],
   "source": [
    "# Check for missing values\n",
    "df.isnull().sum() .max()"
   ]
  },
  {
   "cell_type": "markdown",
   "metadata": {},
   "source": [
    "There are no missing values in the dataset, so I can proceed directly to analyzing the distributions of features like 'Time' and 'Amount'."
   ]
  },
  {
   "cell_type": "code",
   "execution_count": 4,
   "metadata": {},
   "outputs": [
    {
     "data": {
      "text/html": [
       "<div>\n",
       "<style scoped>\n",
       "    .dataframe tbody tr th:only-of-type {\n",
       "        vertical-align: middle;\n",
       "    }\n",
       "\n",
       "    .dataframe tbody tr th {\n",
       "        vertical-align: top;\n",
       "    }\n",
       "\n",
       "    .dataframe thead th {\n",
       "        text-align: right;\n",
       "    }\n",
       "</style>\n",
       "<table border=\"1\" class=\"dataframe\">\n",
       "  <thead>\n",
       "    <tr style=\"text-align: right;\">\n",
       "      <th></th>\n",
       "      <th>Time</th>\n",
       "      <th>V1</th>\n",
       "      <th>V2</th>\n",
       "      <th>V3</th>\n",
       "      <th>V4</th>\n",
       "      <th>V5</th>\n",
       "      <th>V6</th>\n",
       "      <th>V7</th>\n",
       "      <th>V8</th>\n",
       "      <th>V9</th>\n",
       "      <th>...</th>\n",
       "      <th>V21</th>\n",
       "      <th>V22</th>\n",
       "      <th>V23</th>\n",
       "      <th>V24</th>\n",
       "      <th>V25</th>\n",
       "      <th>V26</th>\n",
       "      <th>V27</th>\n",
       "      <th>V28</th>\n",
       "      <th>Amount</th>\n",
       "      <th>Class</th>\n",
       "    </tr>\n",
       "  </thead>\n",
       "  <tbody>\n",
       "    <tr>\n",
       "      <th>count</th>\n",
       "      <td>284807.000000</td>\n",
       "      <td>2.848070e+05</td>\n",
       "      <td>2.848070e+05</td>\n",
       "      <td>2.848070e+05</td>\n",
       "      <td>2.848070e+05</td>\n",
       "      <td>2.848070e+05</td>\n",
       "      <td>2.848070e+05</td>\n",
       "      <td>2.848070e+05</td>\n",
       "      <td>2.848070e+05</td>\n",
       "      <td>2.848070e+05</td>\n",
       "      <td>...</td>\n",
       "      <td>2.848070e+05</td>\n",
       "      <td>2.848070e+05</td>\n",
       "      <td>2.848070e+05</td>\n",
       "      <td>2.848070e+05</td>\n",
       "      <td>2.848070e+05</td>\n",
       "      <td>2.848070e+05</td>\n",
       "      <td>2.848070e+05</td>\n",
       "      <td>2.848070e+05</td>\n",
       "      <td>284807.000000</td>\n",
       "      <td>284807.000000</td>\n",
       "    </tr>\n",
       "    <tr>\n",
       "      <th>mean</th>\n",
       "      <td>94813.859575</td>\n",
       "      <td>3.919560e-15</td>\n",
       "      <td>5.688174e-16</td>\n",
       "      <td>-8.769071e-15</td>\n",
       "      <td>2.782312e-15</td>\n",
       "      <td>-1.552563e-15</td>\n",
       "      <td>2.010663e-15</td>\n",
       "      <td>-1.694249e-15</td>\n",
       "      <td>-1.927028e-16</td>\n",
       "      <td>-3.137024e-15</td>\n",
       "      <td>...</td>\n",
       "      <td>1.537294e-16</td>\n",
       "      <td>7.959909e-16</td>\n",
       "      <td>5.367590e-16</td>\n",
       "      <td>4.458112e-15</td>\n",
       "      <td>1.453003e-15</td>\n",
       "      <td>1.699104e-15</td>\n",
       "      <td>-3.660161e-16</td>\n",
       "      <td>-1.206049e-16</td>\n",
       "      <td>88.349619</td>\n",
       "      <td>0.001727</td>\n",
       "    </tr>\n",
       "    <tr>\n",
       "      <th>std</th>\n",
       "      <td>47488.145955</td>\n",
       "      <td>1.958696e+00</td>\n",
       "      <td>1.651309e+00</td>\n",
       "      <td>1.516255e+00</td>\n",
       "      <td>1.415869e+00</td>\n",
       "      <td>1.380247e+00</td>\n",
       "      <td>1.332271e+00</td>\n",
       "      <td>1.237094e+00</td>\n",
       "      <td>1.194353e+00</td>\n",
       "      <td>1.098632e+00</td>\n",
       "      <td>...</td>\n",
       "      <td>7.345240e-01</td>\n",
       "      <td>7.257016e-01</td>\n",
       "      <td>6.244603e-01</td>\n",
       "      <td>6.056471e-01</td>\n",
       "      <td>5.212781e-01</td>\n",
       "      <td>4.822270e-01</td>\n",
       "      <td>4.036325e-01</td>\n",
       "      <td>3.300833e-01</td>\n",
       "      <td>250.120109</td>\n",
       "      <td>0.041527</td>\n",
       "    </tr>\n",
       "    <tr>\n",
       "      <th>min</th>\n",
       "      <td>0.000000</td>\n",
       "      <td>-5.640751e+01</td>\n",
       "      <td>-7.271573e+01</td>\n",
       "      <td>-4.832559e+01</td>\n",
       "      <td>-5.683171e+00</td>\n",
       "      <td>-1.137433e+02</td>\n",
       "      <td>-2.616051e+01</td>\n",
       "      <td>-4.355724e+01</td>\n",
       "      <td>-7.321672e+01</td>\n",
       "      <td>-1.343407e+01</td>\n",
       "      <td>...</td>\n",
       "      <td>-3.483038e+01</td>\n",
       "      <td>-1.093314e+01</td>\n",
       "      <td>-4.480774e+01</td>\n",
       "      <td>-2.836627e+00</td>\n",
       "      <td>-1.029540e+01</td>\n",
       "      <td>-2.604551e+00</td>\n",
       "      <td>-2.256568e+01</td>\n",
       "      <td>-1.543008e+01</td>\n",
       "      <td>0.000000</td>\n",
       "      <td>0.000000</td>\n",
       "    </tr>\n",
       "    <tr>\n",
       "      <th>25%</th>\n",
       "      <td>54201.500000</td>\n",
       "      <td>-9.203734e-01</td>\n",
       "      <td>-5.985499e-01</td>\n",
       "      <td>-8.903648e-01</td>\n",
       "      <td>-8.486401e-01</td>\n",
       "      <td>-6.915971e-01</td>\n",
       "      <td>-7.682956e-01</td>\n",
       "      <td>-5.540759e-01</td>\n",
       "      <td>-2.086297e-01</td>\n",
       "      <td>-6.430976e-01</td>\n",
       "      <td>...</td>\n",
       "      <td>-2.283949e-01</td>\n",
       "      <td>-5.423504e-01</td>\n",
       "      <td>-1.618463e-01</td>\n",
       "      <td>-3.545861e-01</td>\n",
       "      <td>-3.171451e-01</td>\n",
       "      <td>-3.269839e-01</td>\n",
       "      <td>-7.083953e-02</td>\n",
       "      <td>-5.295979e-02</td>\n",
       "      <td>5.600000</td>\n",
       "      <td>0.000000</td>\n",
       "    </tr>\n",
       "    <tr>\n",
       "      <th>50%</th>\n",
       "      <td>84692.000000</td>\n",
       "      <td>1.810880e-02</td>\n",
       "      <td>6.548556e-02</td>\n",
       "      <td>1.798463e-01</td>\n",
       "      <td>-1.984653e-02</td>\n",
       "      <td>-5.433583e-02</td>\n",
       "      <td>-2.741871e-01</td>\n",
       "      <td>4.010308e-02</td>\n",
       "      <td>2.235804e-02</td>\n",
       "      <td>-5.142873e-02</td>\n",
       "      <td>...</td>\n",
       "      <td>-2.945017e-02</td>\n",
       "      <td>6.781943e-03</td>\n",
       "      <td>-1.119293e-02</td>\n",
       "      <td>4.097606e-02</td>\n",
       "      <td>1.659350e-02</td>\n",
       "      <td>-5.213911e-02</td>\n",
       "      <td>1.342146e-03</td>\n",
       "      <td>1.124383e-02</td>\n",
       "      <td>22.000000</td>\n",
       "      <td>0.000000</td>\n",
       "    </tr>\n",
       "    <tr>\n",
       "      <th>75%</th>\n",
       "      <td>139320.500000</td>\n",
       "      <td>1.315642e+00</td>\n",
       "      <td>8.037239e-01</td>\n",
       "      <td>1.027196e+00</td>\n",
       "      <td>7.433413e-01</td>\n",
       "      <td>6.119264e-01</td>\n",
       "      <td>3.985649e-01</td>\n",
       "      <td>5.704361e-01</td>\n",
       "      <td>3.273459e-01</td>\n",
       "      <td>5.971390e-01</td>\n",
       "      <td>...</td>\n",
       "      <td>1.863772e-01</td>\n",
       "      <td>5.285536e-01</td>\n",
       "      <td>1.476421e-01</td>\n",
       "      <td>4.395266e-01</td>\n",
       "      <td>3.507156e-01</td>\n",
       "      <td>2.409522e-01</td>\n",
       "      <td>9.104512e-02</td>\n",
       "      <td>7.827995e-02</td>\n",
       "      <td>77.165000</td>\n",
       "      <td>0.000000</td>\n",
       "    </tr>\n",
       "    <tr>\n",
       "      <th>max</th>\n",
       "      <td>172792.000000</td>\n",
       "      <td>2.454930e+00</td>\n",
       "      <td>2.205773e+01</td>\n",
       "      <td>9.382558e+00</td>\n",
       "      <td>1.687534e+01</td>\n",
       "      <td>3.480167e+01</td>\n",
       "      <td>7.330163e+01</td>\n",
       "      <td>1.205895e+02</td>\n",
       "      <td>2.000721e+01</td>\n",
       "      <td>1.559499e+01</td>\n",
       "      <td>...</td>\n",
       "      <td>2.720284e+01</td>\n",
       "      <td>1.050309e+01</td>\n",
       "      <td>2.252841e+01</td>\n",
       "      <td>4.584549e+00</td>\n",
       "      <td>7.519589e+00</td>\n",
       "      <td>3.517346e+00</td>\n",
       "      <td>3.161220e+01</td>\n",
       "      <td>3.384781e+01</td>\n",
       "      <td>25691.160000</td>\n",
       "      <td>1.000000</td>\n",
       "    </tr>\n",
       "  </tbody>\n",
       "</table>\n",
       "<p>8 rows × 31 columns</p>\n",
       "</div>"
      ],
      "text/plain": [
       "                Time            V1            V2            V3            V4  \\\n",
       "count  284807.000000  2.848070e+05  2.848070e+05  2.848070e+05  2.848070e+05   \n",
       "mean    94813.859575  3.919560e-15  5.688174e-16 -8.769071e-15  2.782312e-15   \n",
       "std     47488.145955  1.958696e+00  1.651309e+00  1.516255e+00  1.415869e+00   \n",
       "min         0.000000 -5.640751e+01 -7.271573e+01 -4.832559e+01 -5.683171e+00   \n",
       "25%     54201.500000 -9.203734e-01 -5.985499e-01 -8.903648e-01 -8.486401e-01   \n",
       "50%     84692.000000  1.810880e-02  6.548556e-02  1.798463e-01 -1.984653e-02   \n",
       "75%    139320.500000  1.315642e+00  8.037239e-01  1.027196e+00  7.433413e-01   \n",
       "max    172792.000000  2.454930e+00  2.205773e+01  9.382558e+00  1.687534e+01   \n",
       "\n",
       "                 V5            V6            V7            V8            V9  \\\n",
       "count  2.848070e+05  2.848070e+05  2.848070e+05  2.848070e+05  2.848070e+05   \n",
       "mean  -1.552563e-15  2.010663e-15 -1.694249e-15 -1.927028e-16 -3.137024e-15   \n",
       "std    1.380247e+00  1.332271e+00  1.237094e+00  1.194353e+00  1.098632e+00   \n",
       "min   -1.137433e+02 -2.616051e+01 -4.355724e+01 -7.321672e+01 -1.343407e+01   \n",
       "25%   -6.915971e-01 -7.682956e-01 -5.540759e-01 -2.086297e-01 -6.430976e-01   \n",
       "50%   -5.433583e-02 -2.741871e-01  4.010308e-02  2.235804e-02 -5.142873e-02   \n",
       "75%    6.119264e-01  3.985649e-01  5.704361e-01  3.273459e-01  5.971390e-01   \n",
       "max    3.480167e+01  7.330163e+01  1.205895e+02  2.000721e+01  1.559499e+01   \n",
       "\n",
       "       ...           V21           V22           V23           V24  \\\n",
       "count  ...  2.848070e+05  2.848070e+05  2.848070e+05  2.848070e+05   \n",
       "mean   ...  1.537294e-16  7.959909e-16  5.367590e-16  4.458112e-15   \n",
       "std    ...  7.345240e-01  7.257016e-01  6.244603e-01  6.056471e-01   \n",
       "min    ... -3.483038e+01 -1.093314e+01 -4.480774e+01 -2.836627e+00   \n",
       "25%    ... -2.283949e-01 -5.423504e-01 -1.618463e-01 -3.545861e-01   \n",
       "50%    ... -2.945017e-02  6.781943e-03 -1.119293e-02  4.097606e-02   \n",
       "75%    ...  1.863772e-01  5.285536e-01  1.476421e-01  4.395266e-01   \n",
       "max    ...  2.720284e+01  1.050309e+01  2.252841e+01  4.584549e+00   \n",
       "\n",
       "                V25           V26           V27           V28         Amount  \\\n",
       "count  2.848070e+05  2.848070e+05  2.848070e+05  2.848070e+05  284807.000000   \n",
       "mean   1.453003e-15  1.699104e-15 -3.660161e-16 -1.206049e-16      88.349619   \n",
       "std    5.212781e-01  4.822270e-01  4.036325e-01  3.300833e-01     250.120109   \n",
       "min   -1.029540e+01 -2.604551e+00 -2.256568e+01 -1.543008e+01       0.000000   \n",
       "25%   -3.171451e-01 -3.269839e-01 -7.083953e-02 -5.295979e-02       5.600000   \n",
       "50%    1.659350e-02 -5.213911e-02  1.342146e-03  1.124383e-02      22.000000   \n",
       "75%    3.507156e-01  2.409522e-01  9.104512e-02  7.827995e-02      77.165000   \n",
       "max    7.519589e+00  3.517346e+00  3.161220e+01  3.384781e+01   25691.160000   \n",
       "\n",
       "               Class  \n",
       "count  284807.000000  \n",
       "mean        0.001727  \n",
       "std         0.041527  \n",
       "min         0.000000  \n",
       "25%         0.000000  \n",
       "50%         0.000000  \n",
       "75%         0.000000  \n",
       "max         1.000000  \n",
       "\n",
       "[8 rows x 31 columns]"
      ]
     },
     "execution_count": 4,
     "metadata": {},
     "output_type": "execute_result"
    }
   ],
   "source": [
    "# Summary statistics of the dataset\n",
    "df.describe()    "
   ]
  },
  {
   "cell_type": "markdown",
   "metadata": {},
   "source": [
    "The summary statistics give us an idea of the ranges, means, and standard deviations for the features. \n",
    "\n",
    "- **Amount**: The mean transaction amount is \\\\$ 88.35, but the maximum transaction is over \\\\$ 25,000, indicating a highly skewed distribution. \n",
    "  The wide range of transaction amounts suggests I may need to scale or transform this feature before applying machine learning models."
   ]
  },
  {
   "cell_type": "code",
   "execution_count": 5,
   "metadata": {},
   "outputs": [
    {
     "data": {
      "image/png": "[encoded data removed]",
      "text/plain": [
       "<Figure size 1008x432 with 2 Axes>"
      ]
     },
     "metadata": {
      "needs_background": "light"
     },
     "output_type": "display_data"
    }
   ],
   "source": [
    "# Feature distribution: Time, Amount\n",
    "plt.figure(figsize=(14,6))\n",
    "plt.subplot(1, 2, 1)\n",
    "sns.histplot(df['Time'], bins=50, kde=True)\n",
    "plt.title('Transaction Time Distribution')\n",
    "\n",
    "plt.subplot(1, 2, 2)\n",
    "sns.histplot(df['Amount'], bins=50, kde=True)\n",
    "plt.title('Transaction Amount Distribution')\n",
    "plt.show()"
   ]
  },
  {
   "cell_type": "markdown",
   "metadata": {},
   "source": [
    "- **Time**: The transaction times are uniformly distributed throughout the two-day period.\n",
    "- **Amount**: The transaction amounts are highly skewed to the right, with most transactions being small in value. A few high-value transactions are considered outliers."
   ]
  },
  {
   "cell_type": "code",
   "execution_count": 6,
   "metadata": {},
   "outputs": [
    {
     "data": {
      "image/png": "[encoded data removed]",
      "text/plain": [
       "<Figure size 1440x1440 with 36 Axes>"
      ]
     },
     "metadata": {
      "needs_background": "light"
     },
     "output_type": "display_data"
    }
   ],
   "source": [
    "df.hist(figsize=(20,20), color = \"chartreuse\")\n",
    "plt.show()"
   ]
  },
  {
   "cell_type": "markdown",
   "metadata": {},
   "source": [
    "The plots shows the distribution of each feature in the dataset:\n",
    "\n",
    "- Time: Transactions occur uniformly over time, with peaks in the middle range.\n",
    "- V1 to V28: These PCA-transformed features are mostly centered around zero, with varying spreads. Some are skewed (e.g., V2, V3, V4), while others look more normal (e.g., V1, V13, V16).\n",
    "- Amount: Highly right-skewed, with most transactions being small, but a few are outliers with high amounts.\n",
    "- Class: There's a significant class imbalance, with almost all transactions being legitimate (Class = 0) and very few fraudulent (Class = 1).\n",
    "\n",
    "This confirms the dataset’s skewness and class imbalance, which I'll need to handle during preprocessing for effective fraud detection."
   ]
  },
  {
   "cell_type": "markdown",
   "metadata": {},
   "source": [
    "#### Correlation Analysis"
   ]
  },
  {
   "cell_type": "code",
   "execution_count": 7,
   "metadata": {},
   "outputs": [
    {
     "data": {
      "image/png": "[encoded data removed]",
      "text/plain": [
       "<Figure size 864x576 with 2 Axes>"
      ]
     },
     "metadata": {
      "needs_background": "light"
     },
     "output_type": "display_data"
    }
   ],
   "source": [
    "# Correlation Heatmap\n",
    "plt.figure(figsize=(12,8))\n",
    "sns.heatmap(df.corr(), cmap='coolwarm', annot=False)\n",
    "plt.title('Correlation Heatmap')\n",
    "plt.show()"
   ]
  },
  {
   "cell_type": "markdown",
   "metadata": {},
   "source": [
    "The heatmap shows the correlations between different features. Since features V1-V28 were generated using PCA, they are decorrelated. \n",
    "The `Amount` and `Time` features show very little correlation with the principal components, so I treat them separately during model training."
   ]
  },
  {
   "cell_type": "markdown",
   "metadata": {},
   "source": [
    "### 4. Data Cleaning and Transformation\n",
    "To prepare the data for unsupervised learning models, I need to standardize certain features like `Amount` and `Time` since they are continuous and vary in scale.\n",
    "I will apply scaling using StandardScaler."
   ]
  },
  {
   "cell_type": "code",
   "execution_count": 8,
   "metadata": {},
   "outputs": [
    {
     "data": {
      "image/png": "[encoded data removed]",
      "text/plain": [
       "<Figure size 720x432 with 1 Axes>"
      ]
     },
     "metadata": {
      "needs_background": "light"
     },
     "output_type": "display_data"
    }
   ],
   "source": [
    "# Standardize the 'Amount' and 'Time' features\n",
    "scaler = StandardScaler()\n",
    "df['Amount_scaled'] = scaler.fit_transform(df[['Amount']])\n",
    "df['Time_scaled'] = scaler.fit_transform(df[['Time']])\n",
    "\n",
    "# Drop the original 'Amount' and 'Time' columns\n",
    "df = df.drop(['Amount', 'Time'], axis=1)\n",
    "\n",
    "# Check for outliers using box plots\n",
    "plt.figure(figsize=(10,6))\n",
    "sns.boxplot(data=df['Amount_scaled'])\n",
    "plt.title('Box Plot of Scaled Transaction Amounts')\n",
    "plt.show()"
   ]
  },
  {
   "cell_type": "markdown",
   "metadata": {},
   "source": [
    "The box plot shows extreme outliers in the 'Amount' feature, which are likely fraudulent transactions. These outliers will be critical for our anomaly detection models."
   ]
  },
  {
   "cell_type": "markdown",
   "metadata": {},
   "source": [
    "### 5. Model Building and Training"
   ]
  },
  {
   "cell_type": "markdown",
   "metadata": {},
   "source": [
    "**Process**: The dataset is split into two parts: legitimate transactions (`Class=0`) and fraudulent transactions (`Class=1`). I train the model using only legitimate transactions and then evaluate how well it isolates anomalies (fraudulent transactions)."
   ]
  },
  {
   "cell_type": "code",
   "execution_count": 9,
   "metadata": {},
   "outputs": [],
   "source": [
    "inliers = df[df.Class==0]\n",
    "inliers = inliers.drop(['Class'], axis=1)\n",
    "outliers = df[df.Class==1]\n",
    "outliers = outliers.drop(['Class'], axis=1)\n",
    "inliers_train, inliers_test = train_test_split(inliers, test_size=0.30, random_state=42)"
   ]
  },
  {
   "cell_type": "code",
   "execution_count": 10,
   "metadata": {
    "scrolled": true
   },
   "outputs": [
    {
     "data": {
      "text/html": [
       "<div>\n",
       "<style scoped>\n",
       "    .dataframe tbody tr th:only-of-type {\n",
       "        vertical-align: middle;\n",
       "    }\n",
       "\n",
       "    .dataframe tbody tr th {\n",
       "        vertical-align: top;\n",
       "    }\n",
       "\n",
       "    .dataframe thead th {\n",
       "        text-align: right;\n",
       "    }\n",
       "</style>\n",
       "<table border=\"1\" class=\"dataframe\">\n",
       "  <thead>\n",
       "    <tr style=\"text-align: right;\">\n",
       "      <th></th>\n",
       "      <th>V1</th>\n",
       "      <th>V2</th>\n",
       "      <th>V3</th>\n",
       "      <th>V4</th>\n",
       "      <th>V5</th>\n",
       "      <th>V6</th>\n",
       "      <th>V7</th>\n",
       "      <th>V8</th>\n",
       "      <th>V9</th>\n",
       "      <th>V10</th>\n",
       "      <th>...</th>\n",
       "      <th>V21</th>\n",
       "      <th>V22</th>\n",
       "      <th>V23</th>\n",
       "      <th>V24</th>\n",
       "      <th>V25</th>\n",
       "      <th>V26</th>\n",
       "      <th>V27</th>\n",
       "      <th>V28</th>\n",
       "      <th>Amount_scaled</th>\n",
       "      <th>Time_scaled</th>\n",
       "    </tr>\n",
       "  </thead>\n",
       "  <tbody>\n",
       "    <tr>\n",
       "      <th>182516</th>\n",
       "      <td>-1.375072</td>\n",
       "      <td>0.789565</td>\n",
       "      <td>0.199790</td>\n",
       "      <td>-2.381441</td>\n",
       "      <td>-0.499257</td>\n",
       "      <td>-0.515952</td>\n",
       "      <td>-0.178854</td>\n",
       "      <td>0.553516</td>\n",
       "      <td>-0.855907</td>\n",
       "      <td>0.088878</td>\n",
       "      <td>...</td>\n",
       "      <td>0.233399</td>\n",
       "      <td>0.685372</td>\n",
       "      <td>-0.206119</td>\n",
       "      <td>0.700564</td>\n",
       "      <td>0.080305</td>\n",
       "      <td>-0.337050</td>\n",
       "      <td>-0.060415</td>\n",
       "      <td>-0.114552</td>\n",
       "      <td>-0.253277</td>\n",
       "      <td>0.644797</td>\n",
       "    </tr>\n",
       "    <tr>\n",
       "      <th>182203</th>\n",
       "      <td>-0.364812</td>\n",
       "      <td>-0.227765</td>\n",
       "      <td>0.628932</td>\n",
       "      <td>-2.809623</td>\n",
       "      <td>0.520191</td>\n",
       "      <td>0.169868</td>\n",
       "      <td>0.068811</td>\n",
       "      <td>-0.097109</td>\n",
       "      <td>-3.217080</td>\n",
       "      <td>0.954474</td>\n",
       "      <td>...</td>\n",
       "      <td>0.095592</td>\n",
       "      <td>0.615195</td>\n",
       "      <td>-0.606520</td>\n",
       "      <td>-0.081820</td>\n",
       "      <td>0.996175</td>\n",
       "      <td>0.272049</td>\n",
       "      <td>0.019981</td>\n",
       "      <td>0.038710</td>\n",
       "      <td>-0.293258</td>\n",
       "      <td>0.642038</td>\n",
       "    </tr>\n",
       "    <tr>\n",
       "      <th>90215</th>\n",
       "      <td>0.287335</td>\n",
       "      <td>-1.520930</td>\n",
       "      <td>0.613031</td>\n",
       "      <td>1.574648</td>\n",
       "      <td>-1.256200</td>\n",
       "      <td>0.381436</td>\n",
       "      <td>-0.143708</td>\n",
       "      <td>0.173805</td>\n",
       "      <td>0.573639</td>\n",
       "      <td>-0.088812</td>\n",
       "      <td>...</td>\n",
       "      <td>0.412048</td>\n",
       "      <td>0.271372</td>\n",
       "      <td>-0.521642</td>\n",
       "      <td>0.015676</td>\n",
       "      <td>0.323404</td>\n",
       "      <td>-0.283469</td>\n",
       "      <td>-0.026654</td>\n",
       "      <td>0.097686</td>\n",
       "      <td>1.445909</td>\n",
       "      <td>-0.671555</td>\n",
       "    </tr>\n",
       "    <tr>\n",
       "      <th>189554</th>\n",
       "      <td>-0.427464</td>\n",
       "      <td>0.513051</td>\n",
       "      <td>-0.844703</td>\n",
       "      <td>-0.426616</td>\n",
       "      <td>1.719981</td>\n",
       "      <td>-1.705744</td>\n",
       "      <td>1.285337</td>\n",
       "      <td>-0.441805</td>\n",
       "      <td>-0.962425</td>\n",
       "      <td>0.037527</td>\n",
       "      <td>...</td>\n",
       "      <td>0.436566</td>\n",
       "      <td>1.360727</td>\n",
       "      <td>-0.479469</td>\n",
       "      <td>0.140230</td>\n",
       "      <td>-0.230522</td>\n",
       "      <td>0.934113</td>\n",
       "      <td>0.027876</td>\n",
       "      <td>0.133560</td>\n",
       "      <td>-0.345233</td>\n",
       "      <td>0.708349</td>\n",
       "    </tr>\n",
       "    <tr>\n",
       "      <th>105175</th>\n",
       "      <td>1.064630</td>\n",
       "      <td>-0.272178</td>\n",
       "      <td>0.744352</td>\n",
       "      <td>1.349040</td>\n",
       "      <td>-0.040236</td>\n",
       "      <td>1.614714</td>\n",
       "      <td>-0.567454</td>\n",
       "      <td>0.450953</td>\n",
       "      <td>0.944825</td>\n",
       "      <td>-0.283213</td>\n",
       "      <td>...</td>\n",
       "      <td>-0.413865</td>\n",
       "      <td>-0.768865</td>\n",
       "      <td>-0.107540</td>\n",
       "      <td>-1.130239</td>\n",
       "      <td>0.568315</td>\n",
       "      <td>-0.459958</td>\n",
       "      <td>0.086035</td>\n",
       "      <td>0.013312</td>\n",
       "      <td>-0.197304</td>\n",
       "      <td>-0.535289</td>\n",
       "    </tr>\n",
       "  </tbody>\n",
       "</table>\n",
       "<p>5 rows × 30 columns</p>\n",
       "</div>"
      ],
      "text/plain": [
       "              V1        V2        V3        V4        V5        V6        V7  \\\n",
       "182516 -1.375072  0.789565  0.199790 -2.381441 -0.499257 -0.515952 -0.178854   \n",
       "182203 -0.364812 -0.227765  0.628932 -2.809623  0.520191  0.169868  0.068811   \n",
       "90215   0.287335 -1.520930  0.613031  1.574648 -1.256200  0.381436 -0.143708   \n",
       "189554 -0.427464  0.513051 -0.844703 -0.426616  1.719981 -1.705744  1.285337   \n",
       "105175  1.064630 -0.272178  0.744352  1.349040 -0.040236  1.614714 -0.567454   \n",
       "\n",
       "              V8        V9       V10  ...       V21       V22       V23  \\\n",
       "182516  0.553516 -0.855907  0.088878  ...  0.233399  0.685372 -0.206119   \n",
       "182203 -0.097109 -3.217080  0.954474  ...  0.095592  0.615195 -0.606520   \n",
       "90215   0.173805  0.573639 -0.088812  ...  0.412048  0.271372 -0.521642   \n",
       "189554 -0.441805 -0.962425  0.037527  ...  0.436566  1.360727 -0.479469   \n",
       "105175  0.450953  0.944825 -0.283213  ... -0.413865 -0.768865 -0.107540   \n",
       "\n",
       "             V24       V25       V26       V27       V28  Amount_scaled  \\\n",
       "182516  0.700564  0.080305 -0.337050 -0.060415 -0.114552      -0.253277   \n",
       "182203 -0.081820  0.996175  0.272049  0.019981  0.038710      -0.293258   \n",
       "90215   0.015676  0.323404 -0.283469 -0.026654  0.097686       1.445909   \n",
       "189554  0.140230 -0.230522  0.934113  0.027876  0.133560      -0.345233   \n",
       "105175 -1.130239  0.568315 -0.459958  0.086035  0.013312      -0.197304   \n",
       "\n",
       "        Time_scaled  \n",
       "182516     0.644797  \n",
       "182203     0.642038  \n",
       "90215     -0.671555  \n",
       "189554     0.708349  \n",
       "105175    -0.535289  \n",
       "\n",
       "[5 rows x 30 columns]"
      ]
     },
     "execution_count": 10,
     "metadata": {},
     "output_type": "execute_result"
    }
   ],
   "source": [
    "inliers_train.head()"
   ]
  },
  {
   "cell_type": "code",
   "execution_count": 11,
   "metadata": {},
   "outputs": [
    {
     "data": {
      "text/html": [
       "<div>\n",
       "<style scoped>\n",
       "    .dataframe tbody tr th:only-of-type {\n",
       "        vertical-align: middle;\n",
       "    }\n",
       "\n",
       "    .dataframe tbody tr th {\n",
       "        vertical-align: top;\n",
       "    }\n",
       "\n",
       "    .dataframe thead th {\n",
       "        text-align: right;\n",
       "    }\n",
       "</style>\n",
       "<table border=\"1\" class=\"dataframe\">\n",
       "  <thead>\n",
       "    <tr style=\"text-align: right;\">\n",
       "      <th></th>\n",
       "      <th>V1</th>\n",
       "      <th>V2</th>\n",
       "      <th>V3</th>\n",
       "      <th>V4</th>\n",
       "      <th>V5</th>\n",
       "      <th>V6</th>\n",
       "      <th>V7</th>\n",
       "      <th>V8</th>\n",
       "      <th>V9</th>\n",
       "      <th>V10</th>\n",
       "      <th>...</th>\n",
       "      <th>V21</th>\n",
       "      <th>V22</th>\n",
       "      <th>V23</th>\n",
       "      <th>V24</th>\n",
       "      <th>V25</th>\n",
       "      <th>V26</th>\n",
       "      <th>V27</th>\n",
       "      <th>V28</th>\n",
       "      <th>Amount_scaled</th>\n",
       "      <th>Time_scaled</th>\n",
       "    </tr>\n",
       "  </thead>\n",
       "  <tbody>\n",
       "    <tr>\n",
       "      <th>138028</th>\n",
       "      <td>1.314539</td>\n",
       "      <td>0.590643</td>\n",
       "      <td>-0.666593</td>\n",
       "      <td>0.716564</td>\n",
       "      <td>0.301978</td>\n",
       "      <td>-1.125467</td>\n",
       "      <td>0.388881</td>\n",
       "      <td>-0.288390</td>\n",
       "      <td>-0.132137</td>\n",
       "      <td>-0.597739</td>\n",
       "      <td>...</td>\n",
       "      <td>-0.170307</td>\n",
       "      <td>-0.429655</td>\n",
       "      <td>-0.141341</td>\n",
       "      <td>-0.200195</td>\n",
       "      <td>0.639491</td>\n",
       "      <td>0.399476</td>\n",
       "      <td>-0.034321</td>\n",
       "      <td>0.031692</td>\n",
       "      <td>-0.350191</td>\n",
       "      <td>-0.260357</td>\n",
       "    </tr>\n",
       "    <tr>\n",
       "      <th>63099</th>\n",
       "      <td>-0.798672</td>\n",
       "      <td>1.185093</td>\n",
       "      <td>0.904547</td>\n",
       "      <td>0.694584</td>\n",
       "      <td>0.219041</td>\n",
       "      <td>-0.319295</td>\n",
       "      <td>0.495236</td>\n",
       "      <td>0.139269</td>\n",
       "      <td>-0.760214</td>\n",
       "      <td>0.170547</td>\n",
       "      <td>...</td>\n",
       "      <td>0.202287</td>\n",
       "      <td>0.578699</td>\n",
       "      <td>-0.092245</td>\n",
       "      <td>0.013723</td>\n",
       "      <td>-0.246466</td>\n",
       "      <td>-0.380057</td>\n",
       "      <td>-0.396030</td>\n",
       "      <td>-0.112901</td>\n",
       "      <td>-0.336517</td>\n",
       "      <td>-0.932021</td>\n",
       "    </tr>\n",
       "    <tr>\n",
       "      <th>73411</th>\n",
       "      <td>-0.391128</td>\n",
       "      <td>-0.245540</td>\n",
       "      <td>1.122074</td>\n",
       "      <td>-1.308725</td>\n",
       "      <td>-0.639891</td>\n",
       "      <td>0.008678</td>\n",
       "      <td>-0.701304</td>\n",
       "      <td>-0.027315</td>\n",
       "      <td>-2.628854</td>\n",
       "      <td>2.051312</td>\n",
       "      <td>...</td>\n",
       "      <td>-0.133485</td>\n",
       "      <td>0.117403</td>\n",
       "      <td>-0.191748</td>\n",
       "      <td>-0.488642</td>\n",
       "      <td>-0.309774</td>\n",
       "      <td>0.008100</td>\n",
       "      <td>0.163716</td>\n",
       "      <td>0.239582</td>\n",
       "      <td>-0.293258</td>\n",
       "      <td>-0.835765</td>\n",
       "    </tr>\n",
       "    <tr>\n",
       "      <th>164247</th>\n",
       "      <td>-0.060302</td>\n",
       "      <td>1.065093</td>\n",
       "      <td>-0.987421</td>\n",
       "      <td>-0.029567</td>\n",
       "      <td>0.176376</td>\n",
       "      <td>-1.348539</td>\n",
       "      <td>0.775644</td>\n",
       "      <td>0.134843</td>\n",
       "      <td>-0.149734</td>\n",
       "      <td>-1.238598</td>\n",
       "      <td>...</td>\n",
       "      <td>0.355576</td>\n",
       "      <td>0.907570</td>\n",
       "      <td>-0.018454</td>\n",
       "      <td>-0.126269</td>\n",
       "      <td>-0.339923</td>\n",
       "      <td>-0.150285</td>\n",
       "      <td>-0.023634</td>\n",
       "      <td>0.042330</td>\n",
       "      <td>-0.125338</td>\n",
       "      <td>0.458181</td>\n",
       "    </tr>\n",
       "    <tr>\n",
       "      <th>148999</th>\n",
       "      <td>1.848433</td>\n",
       "      <td>0.373364</td>\n",
       "      <td>0.269272</td>\n",
       "      <td>3.866438</td>\n",
       "      <td>0.088062</td>\n",
       "      <td>0.970447</td>\n",
       "      <td>-0.721945</td>\n",
       "      <td>0.235983</td>\n",
       "      <td>0.683491</td>\n",
       "      <td>1.166335</td>\n",
       "      <td>...</td>\n",
       "      <td>0.103563</td>\n",
       "      <td>0.620954</td>\n",
       "      <td>0.197077</td>\n",
       "      <td>0.692392</td>\n",
       "      <td>-0.206530</td>\n",
       "      <td>-0.021328</td>\n",
       "      <td>-0.019823</td>\n",
       "      <td>-0.042682</td>\n",
       "      <td>-0.353229</td>\n",
       "      <td>-0.092231</td>\n",
       "    </tr>\n",
       "  </tbody>\n",
       "</table>\n",
       "<p>5 rows × 30 columns</p>\n",
       "</div>"
      ],
      "text/plain": [
       "              V1        V2        V3        V4        V5        V6        V7  \\\n",
       "138028  1.314539  0.590643 -0.666593  0.716564  0.301978 -1.125467  0.388881   \n",
       "63099  -0.798672  1.185093  0.904547  0.694584  0.219041 -0.319295  0.495236   \n",
       "73411  -0.391128 -0.245540  1.122074 -1.308725 -0.639891  0.008678 -0.701304   \n",
       "164247 -0.060302  1.065093 -0.987421 -0.029567  0.176376 -1.348539  0.775644   \n",
       "148999  1.848433  0.373364  0.269272  3.866438  0.088062  0.970447 -0.721945   \n",
       "\n",
       "              V8        V9       V10  ...       V21       V22       V23  \\\n",
       "138028 -0.288390 -0.132137 -0.597739  ... -0.170307 -0.429655 -0.141341   \n",
       "63099   0.139269 -0.760214  0.170547  ...  0.202287  0.578699 -0.092245   \n",
       "73411  -0.027315 -2.628854  2.051312  ... -0.133485  0.117403 -0.191748   \n",
       "164247  0.134843 -0.149734 -1.238598  ...  0.355576  0.907570 -0.018454   \n",
       "148999  0.235983  0.683491  1.166335  ...  0.103563  0.620954  0.197077   \n",
       "\n",
       "             V24       V25       V26       V27       V28  Amount_scaled  \\\n",
       "138028 -0.200195  0.639491  0.399476 -0.034321  0.031692      -0.350191   \n",
       "63099   0.013723 -0.246466 -0.380057 -0.396030 -0.112901      -0.336517   \n",
       "73411  -0.488642 -0.309774  0.008100  0.163716  0.239582      -0.293258   \n",
       "164247 -0.126269 -0.339923 -0.150285 -0.023634  0.042330      -0.125338   \n",
       "148999  0.692392 -0.206530 -0.021328 -0.019823 -0.042682      -0.353229   \n",
       "\n",
       "        Time_scaled  \n",
       "138028    -0.260357  \n",
       "63099     -0.932021  \n",
       "73411     -0.835765  \n",
       "164247     0.458181  \n",
       "148999    -0.092231  \n",
       "\n",
       "[5 rows x 30 columns]"
      ]
     },
     "execution_count": 11,
     "metadata": {},
     "output_type": "execute_result"
    }
   ],
   "source": [
    "inliers_test.head()"
   ]
  },
  {
   "cell_type": "markdown",
   "metadata": {},
   "source": [
    "#### 5.1 Isolation Forest"
   ]
  },
  {
   "cell_type": "markdown",
   "metadata": {},
   "source": [
    "Isolation Forest is a tree-based anomaly detection algorithm. It works by isolating observations by randomly selecting a feature and then randomly selecting a split value. Anomalies, which are fewer in number and different from the majority of data, tend to be isolated faster, leading to shorter average path lengths in the trees. This makes Isolation Forest well-suited for high-dimensional datasets like the one I am using."
   ]
  },
  {
   "cell_type": "markdown",
   "metadata": {},
   "source": [
    "**Training and Prediction**:"
   ]
  },
  {
   "cell_type": "code",
   "execution_count": 12,
   "metadata": {},
   "outputs": [],
   "source": [
    "model = IsolationForest()\n",
    "model.fit(inliers_train)\n",
    "if_inlier_pred_test = model.predict(inliers_test)\n",
    "if_outlier_pred = model.predict(outliers)"
   ]
  },
  {
   "cell_type": "code",
   "execution_count": 13,
   "metadata": {
    "scrolled": true
   },
   "outputs": [
    {
     "name": "stdout",
     "output_type": "stream",
     "text": [
      "Accuracy in Detecting Legit Cases: 0.9622721144264025\n",
      "Accuracy in Detecting Fraud Cases: 0.8211382113821138\n"
     ]
    }
   ],
   "source": [
    "print(\"Accuracy in Detecting Legit Cases:\", list(if_inlier_pred_test).count(1)/if_inlier_pred_test.shape[0])\n",
    "print(\"Accuracy in Detecting Fraud Cases:\", list(if_outlier_pred).count(-1)/if_outlier_pred.shape[0])"
   ]
  },
  {
   "cell_type": "markdown",
   "metadata": {},
   "source": [
    "I then train the Isolation Forest model on the legitimate transactions and evaluate its ability to detect both legitimate and fraudulent cases:\n",
    "\n",
    "- **Accuracy in Detecting Legitimate Transactions**: 96.23%\n",
    "- **Accuracy in Detecting Fraudulent Transactions**: 82.11%\n",
    "\n",
    "This indicates that the Isolation Forest model is effective at detecting fraud, although there is room for improvement."
   ]
  },
  {
   "cell_type": "markdown",
   "metadata": {},
   "source": [
    "#### 5.2 Local Outlier Factor (LOF)"
   ]
  },
  {
   "cell_type": "markdown",
   "metadata": {},
   "source": [
    "Local Outlier Factor (LOF) is a density-based algorithm that identifies outliers by comparing the local density of a point to that of its neighbors.\n",
    "If a point has a significantly lower density than its neighbors, it is considered an outlier. This method works well when anomalies are sparsely distributed."
   ]
  },
  {
   "cell_type": "markdown",
   "metadata": {},
   "source": [
    "**Training and Prediction**:"
   ]
  },
  {
   "cell_type": "code",
   "execution_count": 14,
   "metadata": {},
   "outputs": [
    {
     "name": "stdout",
     "output_type": "stream",
     "text": [
      "Accuracy in Detecting Legitimate Transactions: 0.9505949938448912\n",
      "Accuracy in Detecting Fraudulent Transactions: 0.2886178861788618\n"
     ]
    }
   ],
   "source": [
    "# turn off warnings\n",
    "warnings.filterwarnings('ignore')\n",
    "\n",
    "# Fit the model using the training data (which has feature names)\n",
    "model = LocalOutlierFactor(novelty=True)\n",
    "model.fit(inliers_train)\n",
    "\n",
    "# Convert the test data to NumPy arrays to avoid feature name mismatch\n",
    "lof_inlier_pred_test = model.predict(inliers_test.to_numpy())\n",
    "lof_outlier_pred = model.predict(outliers.to_numpy())\n",
    "\n",
    "# Evaluate the results\n",
    "print(\"Accuracy in Detecting Legitimate Transactions:\", list(lof_inlier_pred_test).count(1)/lof_inlier_pred_test.shape[0])\n",
    "print(\"Accuracy in Detecting Fraudulent Transactions:\", list(lof_outlier_pred).count(-1)/lof_outlier_pred.shape[0])"
   ]
  },
  {
   "cell_type": "markdown",
   "metadata": {},
   "source": [
    "**Results**:\n",
    "\n",
    "LOF identified 95.06% of legitimate transactions but struggled with fraudulent transactions, only detecting 28.86% of them. This shows that LOF may not be as effective as other methods when applied to highly imbalanced data."
   ]
  },
  {
   "cell_type": "markdown",
   "metadata": {},
   "source": [
    "#### 5.3 K-Means Clustering (Baseline)"
   ]
  },
  {
   "cell_type": "markdown",
   "metadata": {},
   "source": [
    "K-Means Clustering is a simple, centroid-based clustering algorithm. Although it is not designed for anomaly detection, I use it here as a baseline for comparison.\n",
    "\n",
    "I set `n_clusters=2` (one for normal transactions, one for fraudulent transactions). The assumption is that the smaller cluster will represent fraudulent transactions due to their rarity."
   ]
  },
  {
   "cell_type": "markdown",
   "metadata": {},
   "source": [
    "**Training and Prediction**:"
   ]
  },
  {
   "cell_type": "code",
   "execution_count": 15,
   "metadata": {},
   "outputs": [
    {
     "name": "stdout",
     "output_type": "stream",
     "text": [
      "Cluster sizes: {0: 94080, 1: 104940}\n",
      "Fraudulent cluster label: 0\n",
      "Accuracy in Detecting Legitimate Transactions: 0.5247669851691189\n",
      "Accuracy in Detecting Fraudulent Transactions: 0.28252032520325204\n"
     ]
    }
   ],
   "source": [
    "# Initialize K-Means model with a predefined number of clusters (e.g., 2 clusters: one for normal, one for anomalies)\n",
    "kmeans = KMeans(n_clusters=2, random_state=42)\n",
    "\n",
    "# Fit the K-Means model on the inliers (legitimate transactions)\n",
    "kmeans.fit(inliers_train)\n",
    "\n",
    "# Predict cluster labels for the test set and outliers\n",
    "kmeans_inlier_pred_test = kmeans.predict(inliers_test)\n",
    "kmeans_outlier_pred = kmeans.predict(outliers)\n",
    "\n",
    "# Calculate the sizes of each cluster to identify the smaller one (likely fraud)\n",
    "unique, counts = np.unique(kmeans.labels_, return_counts=True)\n",
    "cluster_sizes = dict(zip(unique, counts))\n",
    "print(\"Cluster sizes:\", cluster_sizes)\n",
    "\n",
    "# Assuming the smaller cluster corresponds to fraudulent transactions, let's map clusters to labels\n",
    "fraudulent_cluster = min(cluster_sizes, key=cluster_sizes.get)\n",
    "print(\"Fraudulent cluster label:\", fraudulent_cluster)\n",
    "\n",
    "# Assign predicted labels: fraudulent (1) for the smaller cluster and legitimate (0) for the larger\n",
    "kmeans_inlier_pred_test = [1 if label == fraudulent_cluster else 0 for label in kmeans_inlier_pred_test]\n",
    "kmeans_outlier_pred = [1 if label == fraudulent_cluster else 0 for label in kmeans_outlier_pred]\n",
    "\n",
    "# Evaluate the model's ability to detect legitimate and fraudulent transactions\n",
    "legitimate_transactions_accuracy = kmeans_inlier_pred_test.count(0) / len(kmeans_inlier_pred_test)\n",
    "fraudulent_transactions_accuracy = kmeans_outlier_pred.count(1) / len(kmeans_outlier_pred)\n",
    "\n",
    "print(\"Accuracy in Detecting Legitimate Transactions:\", legitimate_transactions_accuracy)\n",
    "print(\"Accuracy in Detecting Fraudulent Transactions:\", fraudulent_transactions_accuracy)"
   ]
  },
  {
   "cell_type": "markdown",
   "metadata": {},
   "source": [
    "**Results**:\n",
    "\n",
    "K-Means showed weaker performance compared to the other models, correctly identifying only 52.48% of legitimate transactions and 28.25% of fraudulent transactions. This result highlights that clustering models like K-Means may not be ideal for anomaly detection tasks unless further refined."
   ]
  },
  {
   "cell_type": "markdown",
   "metadata": {},
   "source": [
    "### 6. Model Evaluation"
   ]
  },
  {
   "cell_type": "markdown",
   "metadata": {},
   "source": [
    "To systematically compare the models, I use the following evaluation metrics:\n",
    "\n",
    "- **Classification Report**: This report provides precision, recall, and F1-score for both classes (Legitimate and Fraudulent).\n",
    "- **Confusion Matrix**: A matrix that helps us visualize the number of true positives, false positives, true negatives, and false negatives.\n",
    "- **AUC Score**: The Area Under the ROC Curve (AUC) measures the model’s ability to differentiate between classes. Higher AUC values indicate better model performance."
   ]
  },
  {
   "cell_type": "code",
   "execution_count": 16,
   "metadata": {},
   "outputs": [],
   "source": [
    "# Define a function for model evaluation\n",
    "def evaluate_model(true_labels, predicted_labels, model_name):\n",
    "    print(f\"\\n--- {model_name} Evaluation ---\")\n",
    "    # Print classification report (precision, recall, F1-score)\n",
    "    print(classification_report(true_labels, predicted_labels, target_names=['Legitimate', 'Fraudulent']))\n",
    "    \n",
    "    # Calculate and display confusion matrix\n",
    "    cm = confusion_matrix(true_labels, predicted_labels)\n",
    "    print(\"Confusion Matrix:\")\n",
    "    print(cm)\n",
    "    \n",
    "    # Calculate and print ROC AUC score\n",
    "    try:\n",
    "        auc_score = roc_auc_score(true_labels, predicted_labels)\n",
    "        print(f\"AUC Score: {auc_score:.4f}\")\n",
    "    except ValueError:\n",
    "        print(\"AUC calculation is not possible due to lack of variability in predicted labels.\")\n",
    "\n",
    "# Combine inliers and outliers for evaluation\n",
    "combined_data = pd.concat([inliers_test, outliers])\n",
    "true_labels = [0] * len(inliers_test) + [1] * len(outliers)"
   ]
  },
  {
   "cell_type": "markdown",
   "metadata": {},
   "source": [
    "#### 6.1 Isolation Forest Evaluation\n",
    "\n",
    "Isolation Forest returns `1` for legitimate transactions and `-1` for anomalies. I convert these labels to `0` and `1` for easier evaluation."
   ]
  },
  {
   "cell_type": "code",
   "execution_count": 17,
   "metadata": {},
   "outputs": [
    {
     "name": "stdout",
     "output_type": "stream",
     "text": [
      "\n",
      "--- Isolation Forest Evaluation ---\n",
      "              precision    recall  f1-score   support\n",
      "\n",
      "  Legitimate       1.00      0.96      0.98     85295\n",
      "  Fraudulent       0.11      0.82      0.20       492\n",
      "\n",
      "    accuracy                           0.96     85787\n",
      "   macro avg       0.56      0.89      0.59     85787\n",
      "weighted avg       0.99      0.96      0.98     85787\n",
      "\n",
      "Confusion Matrix:\n",
      "[[82077  3218]\n",
      " [   88   404]]\n",
      "AUC Score: 0.8917\n"
     ]
    }
   ],
   "source": [
    "# Isolation Forest returns 1 for inliers (normal transactions) and -1 for outliers (fraudulent transactions)\n",
    "isolation_pred = [0 if label == 1 else 1 for label in if_inlier_pred_test] + [0 if label == 1 else 1 for label in if_outlier_pred]\n",
    "evaluate_model(true_labels, isolation_pred, \"Isolation Forest\")"
   ]
  },
  {
   "cell_type": "markdown",
   "metadata": {},
   "source": [
    "**Results**:\n",
    "- Legitimate Transactions: 96.23% correctly detected.\n",
    "- Fraudulent Transactions: 82.11% correctly detected.\n",
    "- AUC Score: 0.8917"
   ]
  },
  {
   "cell_type": "markdown",
   "metadata": {},
   "source": [
    "#### 6.2 Local Outlier Factor Evaluation\n",
    "\n",
    "The Local Outlier Factor (LOF) also returns `1` for legitimate transactions and `-1` for anomalies.  I convert the labels accordingly."
   ]
  },
  {
   "cell_type": "code",
   "execution_count": 18,
   "metadata": {},
   "outputs": [
    {
     "name": "stdout",
     "output_type": "stream",
     "text": [
      "\n",
      "--- Local Outlier Factor Evaluation ---\n",
      "              precision    recall  f1-score   support\n",
      "\n",
      "  Legitimate       1.00      0.95      0.97     85295\n",
      "  Fraudulent       0.03      0.29      0.06       492\n",
      "\n",
      "    accuracy                           0.95     85787\n",
      "   macro avg       0.51      0.62      0.52     85787\n",
      "weighted avg       0.99      0.95      0.97     85787\n",
      "\n",
      "Confusion Matrix:\n",
      "[[81081  4214]\n",
      " [  350   142]]\n",
      "AUC Score: 0.6196\n"
     ]
    }
   ],
   "source": [
    "# Local Outlier Factor returns 1 for inliers (normal transactions) and -1 for outliers (fraudulent transactions)\n",
    "lof_pred = [0 if label == 1 else 1 for label in lof_inlier_pred_test] + [0 if label == 1 else 1 for label in lof_outlier_pred]\n",
    "evaluate_model(true_labels, lof_pred, \"Local Outlier Factor\")"
   ]
  },
  {
   "cell_type": "markdown",
   "metadata": {},
   "source": [
    "**Results**:\n",
    "- Legitimate Transactions: 95.06% correctly detected.\n",
    "- Fraudulent Transactions: 28.86% correctly detected.\n",
    "- AUC Score: 0.6196"
   ]
  },
  {
   "cell_type": "markdown",
   "metadata": {},
   "source": [
    "#### 6.3 K-Means Clustering Evaluation\n",
    "For K-Means Clustering, I assume the smaller cluster represents fraudulent transactions."
   ]
  },
  {
   "cell_type": "code",
   "execution_count": 19,
   "metadata": {},
   "outputs": [
    {
     "name": "stdout",
     "output_type": "stream",
     "text": [
      "\n",
      "--- K-Means Clustering Evaluation ---\n",
      "              precision    recall  f1-score   support\n",
      "\n",
      "  Legitimate       0.99      0.52      0.69     85295\n",
      "  Fraudulent       0.00      0.28      0.01       492\n",
      "\n",
      "    accuracy                           0.52     85787\n",
      "   macro avg       0.50      0.40      0.35     85787\n",
      "weighted avg       0.99      0.52      0.68     85787\n",
      "\n",
      "Confusion Matrix:\n",
      "[[44760 40535]\n",
      " [  353   139]]\n",
      "AUC Score: 0.4036\n"
     ]
    }
   ],
   "source": [
    "# K-Means clustering has already mapped legitimate (0) and fraudulent (1) labels\n",
    "kmeans_pred = kmeans_inlier_pred_test + kmeans_outlier_pred\n",
    "evaluate_model(true_labels, kmeans_pred, \"K-Means Clustering\")"
   ]
  },
  {
   "cell_type": "markdown",
   "metadata": {},
   "source": [
    "**Results**:\n",
    "- Legitimate Transactions: 52.48% correctly detected.\n",
    "- Fraudulent Transactions: 28.25% correctly detected.\n",
    "- AUC Score: 0.4036"
   ]
  },
  {
   "cell_type": "markdown",
   "metadata": {},
   "source": [
    "#### Summary\n",
    "The results show that the Isolation Forest is the most effective model in detecting fraud, followed by the Local Outlier Factor, and finally K-Means Clustering. Even though Isolation Forest and LOF perform better in detecting anomalies, none of the models are perfect. There’s still room for improvement, especially in detecting fraudulent transactions, which remain challenging due to the extreme class imbalance.\n",
    "\n",
    "Further optimization of hyperparameters, combining models, or incorporating domain knowledge could help improve the performance of these unsupervised methods."
   ]
  },
  {
   "cell_type": "markdown",
   "metadata": {},
   "source": [
    "### 7. Hyperparameter Tuning"
   ]
  },
  {
   "cell_type": "markdown",
   "metadata": {},
   "source": [
    "I will now experiment with tuning the contamination rate in the Isolation Forest model to optimize performance."
   ]
  },
  {
   "cell_type": "code",
   "execution_count": 20,
   "metadata": {},
   "outputs": [
    {
     "name": "stdout",
     "output_type": "stream",
     "text": [
      "\n",
      "--- Tuned Isolation Forest Evaluation ---\n",
      "              precision    recall  f1-score   support\n",
      "\n",
      "  Legitimate       1.00      1.00      1.00     85295\n",
      "  Fraudulent       0.56      0.20      0.29       492\n",
      "\n",
      "    accuracy                           0.99     85787\n",
      "   macro avg       0.78      0.60      0.65     85787\n",
      "weighted avg       0.99      0.99      0.99     85787\n",
      "\n",
      "Confusion Matrix:\n",
      "[[85217    78]\n",
      " [  394    98]]\n",
      "AUC Score: 0.5991\n",
      "Best Contamination Parameter: 0.001\n"
     ]
    }
   ],
   "source": [
    "from sklearn.model_selection import GridSearchCV\n",
    "\n",
    "# Hyperparameter tuning for Isolation Forest\n",
    "param_grid = {'contamination': [0.001, 0.005, 0.01, 0.02, 0.05]}\n",
    "\n",
    "grid_search = GridSearchCV(IsolationForest(), param_grid, scoring='roc_auc', cv=5)\n",
    "grid_search.fit(inliers_train)\n",
    "\n",
    "# Best parameters and model\n",
    "best_params = grid_search.best_params_\n",
    "best_model = grid_search.best_estimator_\n",
    "\n",
    "# Predict with the best model\n",
    "if_inlier_pred_test = best_model.predict(inliers_test)\n",
    "if_outlier_pred = best_model.predict(outliers)\n",
    "\n",
    "# Evaluate the tuned model\n",
    "isolation_pred = [0 if label == 1 else 1 for label in if_inlier_pred_test] + [0 if label == 1 else 1 for label in if_outlier_pred]\n",
    "evaluate_model(true_labels, isolation_pred, \"Tuned Isolation Forest\")\n",
    "\n",
    "print(f\"Best Contamination Parameter: {best_params['contamination']}\")"
   ]
  },
  {
   "cell_type": "markdown",
   "metadata": {},
   "source": [
    "**Results After Tuning**\n",
    "\n",
    "After hyperparameter tuning, the best contamination parameter was found to be 0.001. This small contamination rate aligns well with the rare occurrence of fraudulent transactions in the dataset.\n",
    "\n",
    "Tuned Isolation Forest Evaluation:\n",
    "- Best Contamination Parameter: 0.001\n",
    "- AUC Score: 0.5991\n",
    "\n",
    "The model now has a high accuracy (99%) for detecting legitimate transactions, but the detection of fraudulent transactions, while improved, is still a challenge due to the extreme imbalance. By tuning the contamination parameter, I was able to enhance the precision of the model for fraud detection, although there's still room to further optimize performance by incorporating additional techniques or domain knowledge."
   ]
  },
  {
   "cell_type": "markdown",
   "metadata": {},
   "source": [
    "### 8. Conclusion\n",
    "\n",
    "In this project, I applied several unsupervised learning models to tackle the challenge of detecting fraudulent transactions in an imbalanced credit card dataset. I started by exploring and preprocessing the data, followed by the implementation of three anomaly detection algorithms: Isolation Forest, Local Outlier Factor (LOF), and K-Means Clustering. \n",
    "\n",
    "Among these, the Isolation Forest model provided the best performance, achieving an accuracy of 96.23% in detecting legitimate transactions and 82.11% in detecting fraud. However, despite its relative success, detecting fraudulent transactions remains a difficult task due to the extreme class imbalance in the dataset. The Local Outlier Factor struggled with fraud detection, identifying only 28.86% of fraudulent cases, while K-Means performed poorly, correctly identifying just 28.25% of fraud cases.\n",
    "\n",
    "After hyperparameter tuning of the Isolation Forest model, I improved the model’s precision for fraud detection, but the results still indicate room for further improvement. Future work could explore advanced techniques such as hybrid models or deep learning-based anomaly detection methods, combined with domain-specific insights to improve the detection of rare fraudulent cases.\n",
    "\n",
    "Overall, while unsupervised learning techniques offer potential for fraud detection in highly imbalanced datasets, optimizing their performance in real-world applications requires further refinement and the integration of more sophisticated approaches."
   ]
  },
  {
   "cell_type": "code",
   "execution_count": null,
   "metadata": {},
   "outputs": [],
   "source": []
  }
 ],
 "metadata": {
  "kernelspec": {
   "display_name": "Python 3",
   "language": "python",
   "name": "python3"
  },
  "language_info": {
   "codemirror_mode": {
    "name": "ipython",
    "version": 3
   },
   "file_extension": ".py",
   "mimetype": "text/x-python",
   "name": "python",
   "nbconvert_exporter": "python",
   "pygments_lexer": "ipython3",
   "version": "3.7.6"
  }
 },
 "nbformat": 4,
 "nbformat_minor": 5
}
